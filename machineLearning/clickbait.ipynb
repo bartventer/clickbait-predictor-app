{
 "cells": [
  {
   "cell_type": "markdown",
   "id": "52effd1d",
   "metadata": {
    "ExecuteTime": {
     "end_time": "2021-04-04T15:11:06.087259Z",
     "start_time": "2021-04-04T15:11:06.082639Z"
    }
   },
   "source": [
    "# Importing packages and libraries"
   ]
  },
  {
   "cell_type": "code",
   "execution_count": 88,
   "id": "260ce358",
   "metadata": {
    "ExecuteTime": {
     "end_time": "2021-04-04T17:35:23.142525Z",
     "start_time": "2021-04-04T17:35:23.136226Z"
    }
   },
   "outputs": [],
   "source": [
    "import numpy as np \n",
    "import pandas as pd\n",
    "import nltk\n",
    "from nltk.corpus import stopwords\n",
    "from nltk.probability import FreqDist\n",
    "from nltk.stem import WordNetLemmatizer\n",
    "import string as s\n",
    "import re\n",
    "import os\n",
    "import joblib\n",
    "\n",
    "import matplotlib.pyplot as plt\n",
    "import seaborn as sns\n",
    "\n",
    "from sklearn.naive_bayes import MultinomialNB\n",
    "from sklearn.model_selection import train_test_split"
   ]
  },
  {
   "cell_type": "markdown",
   "id": "0420bb91",
   "metadata": {},
   "source": [
    "# Load the dataset"
   ]
  },
  {
   "cell_type": "code",
   "execution_count": 2,
   "id": "fe202dcd",
   "metadata": {
    "ExecuteTime": {
     "end_time": "2021-04-04T15:51:44.452791Z",
     "start_time": "2021-04-04T15:51:44.403192Z"
    }
   },
   "outputs": [],
   "source": [
    "cb_data= pd.read_csv('clickbait_data.csv')"
   ]
  },
  {
   "cell_type": "code",
   "execution_count": 3,
   "id": "d63f44ff",
   "metadata": {
    "ExecuteTime": {
     "end_time": "2021-04-04T15:51:46.421646Z",
     "start_time": "2021-04-04T15:51:46.399045Z"
    }
   },
   "outputs": [
    {
     "data": {
      "text/html": [
       "<div>\n",
       "<style scoped>\n",
       "    .dataframe tbody tr th:only-of-type {\n",
       "        vertical-align: middle;\n",
       "    }\n",
       "\n",
       "    .dataframe tbody tr th {\n",
       "        vertical-align: top;\n",
       "    }\n",
       "\n",
       "    .dataframe thead th {\n",
       "        text-align: right;\n",
       "    }\n",
       "</style>\n",
       "<table border=\"1\" class=\"dataframe\">\n",
       "  <thead>\n",
       "    <tr style=\"text-align: right;\">\n",
       "      <th></th>\n",
       "      <th>headline</th>\n",
       "      <th>clickbait</th>\n",
       "    </tr>\n",
       "  </thead>\n",
       "  <tbody>\n",
       "    <tr>\n",
       "      <th>0</th>\n",
       "      <td>Should I Get Bings</td>\n",
       "      <td>1</td>\n",
       "    </tr>\n",
       "    <tr>\n",
       "      <th>1</th>\n",
       "      <td>Which TV Female Friend Group Do You Belong In</td>\n",
       "      <td>1</td>\n",
       "    </tr>\n",
       "    <tr>\n",
       "      <th>2</th>\n",
       "      <td>The New \"Star Wars: The Force Awakens\" Trailer...</td>\n",
       "      <td>1</td>\n",
       "    </tr>\n",
       "    <tr>\n",
       "      <th>3</th>\n",
       "      <td>This Vine Of New York On \"Celebrity Big Brothe...</td>\n",
       "      <td>1</td>\n",
       "    </tr>\n",
       "    <tr>\n",
       "      <th>4</th>\n",
       "      <td>A Couple Did A Stunning Photo Shoot With Their...</td>\n",
       "      <td>1</td>\n",
       "    </tr>\n",
       "  </tbody>\n",
       "</table>\n",
       "</div>"
      ],
      "text/plain": [
       "                                            headline  clickbait\n",
       "0                                 Should I Get Bings          1\n",
       "1      Which TV Female Friend Group Do You Belong In          1\n",
       "2  The New \"Star Wars: The Force Awakens\" Trailer...          1\n",
       "3  This Vine Of New York On \"Celebrity Big Brothe...          1\n",
       "4  A Couple Did A Stunning Photo Shoot With Their...          1"
      ]
     },
     "execution_count": 3,
     "metadata": {},
     "output_type": "execute_result"
    }
   ],
   "source": [
    "cb_data.head()"
   ]
  },
  {
   "cell_type": "code",
   "execution_count": 4,
   "id": "d9ad8b3b",
   "metadata": {
    "ExecuteTime": {
     "end_time": "2021-04-04T15:51:48.931346Z",
     "start_time": "2021-04-04T15:51:48.775072Z"
    }
   },
   "outputs": [
    {
     "data": {
      "text/plain": [
       "<AxesSubplot:xlabel='clickbait', ylabel='count'>"
      ]
     },
     "execution_count": 4,
     "metadata": {},
     "output_type": "execute_result"
    },
    {
     "data": {
      "image/png": "[encoded data removed]",
      "text/plain": [
       "<Figure size 432x288 with 1 Axes>"
      ]
     },
     "metadata": {
      "needs_background": "light"
     },
     "output_type": "display_data"
    }
   ],
   "source": [
    "sns.countplot(x = cb_data.clickbait)"
   ]
  },
  {
   "cell_type": "markdown",
   "id": "afa9d68e",
   "metadata": {},
   "source": [
    "# Splitting the data into Train and Test sets"
   ]
  },
  {
   "cell_type": "code",
   "execution_count": 5,
   "id": "6d7d8799",
   "metadata": {
    "ExecuteTime": {
     "end_time": "2021-04-04T15:51:52.394037Z",
     "start_time": "2021-04-04T15:51:52.367158Z"
    }
   },
   "outputs": [],
   "source": [
    "x=cb_data.headline\n",
    "y=cb_data.clickbait\n",
    "train_x,test_x,train_y,test_y=train_test_split(x,y,test_size=0.25,random_state=22,stratify=cb_data['clickbait'])"
   ]
  },
  {
   "cell_type": "markdown",
   "id": "025ea1a2",
   "metadata": {},
   "source": [
    "# Analyzing the Train and Test Data"
   ]
  },
  {
   "cell_type": "code",
   "execution_count": 6,
   "id": "2572c7a0",
   "metadata": {
    "ExecuteTime": {
     "end_time": "2021-04-04T15:51:53.654846Z",
     "start_time": "2021-04-04T15:51:53.650246Z"
    }
   },
   "outputs": [
    {
     "name": "stdout",
     "output_type": "stream",
     "text": [
      "No. of elements in training set\n",
      "24000\n",
      "No. of elements in testing set\n",
      "8000\n"
     ]
    }
   ],
   "source": [
    "print(\"No. of elements in training set\")\n",
    "print(train_x.size)\n",
    "print(\"No. of elements in testing set\")\n",
    "print(test_x.size)"
   ]
  },
  {
   "cell_type": "code",
   "execution_count": 7,
   "id": "891b2fcf",
   "metadata": {
    "ExecuteTime": {
     "end_time": "2021-04-04T15:51:56.239379Z",
     "start_time": "2021-04-04T15:51:56.233576Z"
    }
   },
   "outputs": [
    {
     "name": "stdout",
     "output_type": "stream",
     "text": [
      "16963    California's same-sex marriage ban ruled uncon...\n",
      "31283    Sports-heavy broadcast day for BBC One receive...\n",
      "22340    Report says disappearing life threatens biodiv...\n",
      "24344    UN accuses US of wholesale rights violations i...\n",
      "2219     5 Ridiculous Things Science Claimed About Bear...\n",
      "Name: headline, dtype: object\n",
      "16963    0\n",
      "31283    0\n",
      "22340    0\n",
      "24344    0\n",
      "2219     1\n",
      "Name: clickbait, dtype: int64\n"
     ]
    }
   ],
   "source": [
    "print(train_x.head())\n",
    "print(train_y.head())"
   ]
  },
  {
   "cell_type": "code",
   "execution_count": 8,
   "id": "c06710b8",
   "metadata": {
    "ExecuteTime": {
     "end_time": "2021-04-04T15:51:56.765576Z",
     "start_time": "2021-04-04T15:51:56.751464Z"
    }
   },
   "outputs": [
    {
     "name": "stdout",
     "output_type": "stream",
     "text": [
      "31858                 Indian Ocean tsunami, one year after\n",
      "20688    UN carries out first review of US human rights...\n",
      "19125    Pirate Bay case: Internet group attacks websit...\n",
      "13523             How Many Iconic '70s Films Have You Seen\n",
      "3473        How Much Do You Really Know About \"Doctor Who\"\n",
      "Name: headline, dtype: object\n",
      "31858    0\n",
      "20688    0\n",
      "19125    0\n",
      "13523    1\n",
      "3473     1\n",
      "Name: clickbait, dtype: int64\n"
     ]
    }
   ],
   "source": [
    "print(test_x.head())\n",
    "print(test_y.head())"
   ]
  },
  {
   "cell_type": "markdown",
   "id": "48d32af7",
   "metadata": {},
   "source": [
    "# Tokenization of Data"
   ]
  },
  {
   "cell_type": "markdown",
   "id": "0176c4d8",
   "metadata": {},
   "source": [
    "The data is tokenized i.e. split into tokens which are the smallest or minimal meaningful units. The data is split into words."
   ]
  },
  {
   "cell_type": "code",
   "execution_count": 9,
   "id": "d51ef686",
   "metadata": {
    "ExecuteTime": {
     "end_time": "2021-04-04T15:52:00.059909Z",
     "start_time": "2021-04-04T15:52:00.002799Z"
    }
   },
   "outputs": [],
   "source": [
    "def tokenization(text):\n",
    "    lst=text.split()\n",
    "    return lst\n",
    "train_x=train_x.apply(tokenization)\n",
    "test_x=test_x.apply(tokenization)"
   ]
  },
  {
   "cell_type": "markdown",
   "id": "961b497a",
   "metadata": {},
   "source": [
    "# Converting to lowercase"
   ]
  },
  {
   "cell_type": "markdown",
   "id": "84f0c144",
   "metadata": {},
   "source": [
    "The data is converted into lowercase to avoid ambiguity between same words in different cases like 'NLP', 'nlp' or 'Nlp'."
   ]
  },
  {
   "cell_type": "code",
   "execution_count": 10,
   "id": "c19299f9",
   "metadata": {
    "ExecuteTime": {
     "end_time": "2021-04-04T15:52:01.519567Z",
     "start_time": "2021-04-04T15:52:01.379752Z"
    }
   },
   "outputs": [],
   "source": [
    "def lowercasing(lst):\n",
    "    new_lst=[]\n",
    "    for i in lst:\n",
    "        i=i.lower()\n",
    "        new_lst.append(i)\n",
    "    return new_lst\n",
    "train_x=train_x.apply(lowercasing)\n",
    "test_x=test_x.apply(lowercasing)  "
   ]
  },
  {
   "cell_type": "markdown",
   "id": "1ddc1aec",
   "metadata": {},
   "source": [
    "# Removing Stopwords"
   ]
  },
  {
   "cell_type": "code",
   "execution_count": 11,
   "id": "f9a60efa",
   "metadata": {
    "ExecuteTime": {
     "end_time": "2021-04-04T15:52:10.010077Z",
     "start_time": "2021-04-04T15:52:04.277353Z"
    }
   },
   "outputs": [],
   "source": [
    "def remove_stopwords(lst):\n",
    "    stop=stopwords.words('english')\n",
    "    new_lst=[]\n",
    "    for i in lst:\n",
    "        if i not in stop:\n",
    "            new_lst.append(i)\n",
    "    return new_lst\n",
    "\n",
    "train_x=train_x.apply(remove_stopwords)\n",
    "test_x=test_x.apply(remove_stopwords) "
   ]
  },
  {
   "cell_type": "markdown",
   "id": "4303e587",
   "metadata": {},
   "source": [
    "# Removing punctuation"
   ]
  },
  {
   "cell_type": "markdown",
   "id": "649fb61c",
   "metadata": {},
   "source": [
    "The punctuations are removed to increase the efficiency of the model. They are irrelevant because they provide no added information."
   ]
  },
  {
   "cell_type": "code",
   "execution_count": 12,
   "id": "abf939d9",
   "metadata": {
    "ExecuteTime": {
     "end_time": "2021-04-04T15:52:11.163892Z",
     "start_time": "2021-04-04T15:52:10.059992Z"
    }
   },
   "outputs": [],
   "source": [
    "def remove_punctuations(lst):\n",
    "    new_lst=[]\n",
    "    for i in lst:\n",
    "        for j in s.punctuation:\n",
    "            i=i.replace(j,'')\n",
    "        new_lst.append(i)\n",
    "    return new_lst\n",
    "train_x=train_x.apply(remove_punctuations)\n",
    "test_x=test_x.apply(remove_punctuations)  "
   ]
  },
  {
   "cell_type": "markdown",
   "id": "6a8fe207",
   "metadata": {},
   "source": [
    "# Removing Numbers"
   ]
  },
  {
   "cell_type": "code",
   "execution_count": 13,
   "id": "92c706a9",
   "metadata": {
    "ExecuteTime": {
     "end_time": "2021-04-04T15:52:13.189890Z",
     "start_time": "2021-04-04T15:52:12.775862Z"
    }
   },
   "outputs": [],
   "source": [
    "def remove_numbers(lst):\n",
    "    nodig_lst=[]\n",
    "    new_lst=[]\n",
    "    for i in lst:\n",
    "        for j in s.digits:    \n",
    "            i=i.replace(j,'')\n",
    "        nodig_lst.append(i)\n",
    "    for i in nodig_lst:\n",
    "        if i!='':\n",
    "            new_lst.append(i)\n",
    "    return new_lst\n",
    "train_x=train_x.apply(remove_numbers)\n",
    "test_x=test_x.apply(remove_numbers)"
   ]
  },
  {
   "cell_type": "markdown",
   "id": "583ae6e2",
   "metadata": {},
   "source": [
    "# Removing extra spaces"
   ]
  },
  {
   "cell_type": "code",
   "execution_count": 14,
   "id": "ffdf1098",
   "metadata": {
    "ExecuteTime": {
     "end_time": "2021-04-04T15:52:15.019946Z",
     "start_time": "2021-04-04T15:52:14.965009Z"
    }
   },
   "outputs": [],
   "source": [
    "def remove_spaces(lst):\n",
    "    new_lst=[]\n",
    "    for i in lst:\n",
    "        i=i.strip()\n",
    "        new_lst.append(i)\n",
    "    return new_lst\n",
    "train_x=train_x.apply(remove_spaces)\n",
    "test_x=test_x.apply(remove_spaces)"
   ]
  },
  {
   "cell_type": "markdown",
   "id": "d5d6dfbb",
   "metadata": {},
   "source": [
    "# Analyzing data after preprocessing"
   ]
  },
  {
   "cell_type": "markdown",
   "id": "e34c8348",
   "metadata": {},
   "source": [
    "After preprocessing the data i.e. after removing punctuation, stopwords, spaces and numbers."
   ]
  },
  {
   "cell_type": "code",
   "execution_count": 15,
   "id": "10eff9a1",
   "metadata": {
    "ExecuteTime": {
     "end_time": "2021-04-04T15:52:20.407315Z",
     "start_time": "2021-04-04T15:52:20.399609Z"
    }
   },
   "outputs": [
    {
     "data": {
      "text/plain": [
       "16963    [californias, samesex, marriage, ban, ruled, u...\n",
       "31283    [sportsheavy, broadcast, day, bbc, one, receiv...\n",
       "22340    [report, says, disappearing, life, threatens, ...\n",
       "24344    [un, accuses, us, wholesale, rights, violation...\n",
       "2219     [ridiculous, things, science, claimed, bearded...\n",
       "Name: headline, dtype: object"
      ]
     },
     "execution_count": 15,
     "metadata": {},
     "output_type": "execute_result"
    }
   ],
   "source": [
    "train_x.head()"
   ]
  },
  {
   "cell_type": "code",
   "execution_count": 16,
   "id": "1bd9bd86",
   "metadata": {
    "ExecuteTime": {
     "end_time": "2021-04-04T15:52:21.886271Z",
     "start_time": "2021-04-04T15:52:21.872618Z"
    }
   },
   "outputs": [
    {
     "data": {
      "text/plain": [
       "31858                  [indian, ocean, tsunami, one, year]\n",
       "20688    [un, carries, first, review, us, human, rights...\n",
       "19125    [pirate, bay, case, internet, group, attacks, ...\n",
       "13523                       [many, iconic, s, films, seen]\n",
       "3473                     [much, really, know, doctor, who]\n",
       "Name: headline, dtype: object"
      ]
     },
     "execution_count": 16,
     "metadata": {},
     "output_type": "execute_result"
    }
   ],
   "source": [
    "test_x.head()"
   ]
  },
  {
   "cell_type": "markdown",
   "id": "d13c7327",
   "metadata": {},
   "source": [
    "# Lemmatization"
   ]
  },
  {
   "cell_type": "markdown",
   "id": "a4c3bab5",
   "metadata": {},
   "source": [
    "Lemmatization in linguistics is the process of grouping together the inflected forms of a word so they can be analysed as a single item, identified by the word's lemma, or dictionary form. It involves the morphological analysis of words.\n",
    "\n",
    "In lemmatization we find the root word or base form of the word rather than just clipping some characters from the end e.g. is, are, am are all converted to its base form be in Lemmatization\n",
    "\n",
    "Here lemmatization is done using NLTK library."
   ]
  },
  {
   "cell_type": "code",
   "execution_count": 58,
   "id": "b0e4e970",
   "metadata": {
    "ExecuteTime": {
     "end_time": "2021-04-04T16:57:10.501085Z",
     "start_time": "2021-04-04T16:57:10.496160Z"
    }
   },
   "outputs": [],
   "source": [
    "lemmatizer=WordNetLemmatizer()\n",
    "def lemmatzation(lst):\n",
    "    new_lst=[]\n",
    "    for i in lst:\n",
    "        i=lemmatizer.lemmatize(i)\n",
    "        new_lst.append(i)\n",
    "    return new_lst"
   ]
  },
  {
   "cell_type": "code",
   "execution_count": 19,
   "id": "6789f0e6",
   "metadata": {
    "ExecuteTime": {
     "end_time": "2021-04-04T15:52:32.143866Z",
     "start_time": "2021-04-04T15:52:29.629958Z"
    }
   },
   "outputs": [],
   "source": [
    "train_x=train_x.apply(lemmatzation)\n",
    "test_x=test_x.apply(lemmatzation)"
   ]
  },
  {
   "cell_type": "code",
   "execution_count": 20,
   "id": "fd7a72cd",
   "metadata": {
    "ExecuteTime": {
     "end_time": "2021-04-04T15:52:54.186483Z",
     "start_time": "2021-04-04T15:52:54.094980Z"
    }
   },
   "outputs": [],
   "source": [
    "train_x=train_x.apply(lambda x: ''.join(i+' ' for i in x))\n",
    "test_x=test_x.apply(lambda x: ''.join(i+' ' for i in x))"
   ]
  },
  {
   "cell_type": "markdown",
   "id": "957883f2",
   "metadata": {},
   "source": [
    "# Countvectoriser"
   ]
  },
  {
   "cell_type": "markdown",
   "id": "d8cd1946",
   "metadata": {},
   "source": [
    "This method is used to convert the text into features."
   ]
  },
  {
   "cell_type": "code",
   "execution_count": 21,
   "id": "35475d46",
   "metadata": {
    "ExecuteTime": {
     "end_time": "2021-04-04T15:55:24.629840Z",
     "start_time": "2021-04-04T15:55:23.708271Z"
    }
   },
   "outputs": [],
   "source": [
    "from sklearn.feature_extraction.text import CountVectorizer\n",
    "cov=CountVectorizer(analyzer='word', ngram_range=(1,2),max_features=22500)\n",
    "train_1=cov.fit_transform(train_x)\n",
    "test_1=cov.transform(test_x)"
   ]
  },
  {
   "cell_type": "code",
   "execution_count": 22,
   "id": "f4a5298e",
   "metadata": {
    "ExecuteTime": {
     "end_time": "2021-04-04T15:55:32.765508Z",
     "start_time": "2021-04-04T15:55:32.134384Z"
    }
   },
   "outputs": [],
   "source": [
    "train_arr=train_1.toarray()\n",
    "test_arr=test_1.toarray()"
   ]
  },
  {
   "cell_type": "code",
   "execution_count": 23,
   "id": "85c97de2",
   "metadata": {
    "ExecuteTime": {
     "end_time": "2021-04-04T15:55:41.450707Z",
     "start_time": "2021-04-04T15:55:41.393593Z"
    }
   },
   "outputs": [
    {
     "data": {
      "text/html": [
       "<div>\n",
       "<style scoped>\n",
       "    .dataframe tbody tr th:only-of-type {\n",
       "        vertical-align: middle;\n",
       "    }\n",
       "\n",
       "    .dataframe tbody tr th {\n",
       "        vertical-align: top;\n",
       "    }\n",
       "\n",
       "    .dataframe thead th {\n",
       "        text-align: right;\n",
       "    }\n",
       "</style>\n",
       "<table border=\"1\" class=\"dataframe\">\n",
       "  <thead>\n",
       "    <tr style=\"text-align: right;\">\n",
       "      <th></th>\n",
       "      <th>aaa</th>\n",
       "      <th>aaron</th>\n",
       "      <th>aaron tveit</th>\n",
       "      <th>ab</th>\n",
       "      <th>abandon</th>\n",
       "      <th>abandoned</th>\n",
       "      <th>abbas</th>\n",
       "      <th>abbey</th>\n",
       "      <th>abbott</th>\n",
       "      <th>abby</th>\n",
       "      <th>...</th>\n",
       "      <th>zombie apocalypse</th>\n",
       "      <th>zone</th>\n",
       "      <th>zoo</th>\n",
       "      <th>zoolander</th>\n",
       "      <th>zotob</th>\n",
       "      <th>zotob worm</th>\n",
       "      <th>zuma</th>\n",
       "      <th>zurich</th>\n",
       "      <th>íngrid</th>\n",
       "      <th>íngrid betancourt</th>\n",
       "    </tr>\n",
       "  </thead>\n",
       "  <tbody>\n",
       "    <tr>\n",
       "      <th>0</th>\n",
       "      <td>0</td>\n",
       "      <td>0</td>\n",
       "      <td>0</td>\n",
       "      <td>0</td>\n",
       "      <td>0</td>\n",
       "      <td>0</td>\n",
       "      <td>0</td>\n",
       "      <td>0</td>\n",
       "      <td>0</td>\n",
       "      <td>0</td>\n",
       "      <td>...</td>\n",
       "      <td>0</td>\n",
       "      <td>0</td>\n",
       "      <td>0</td>\n",
       "      <td>0</td>\n",
       "      <td>0</td>\n",
       "      <td>0</td>\n",
       "      <td>0</td>\n",
       "      <td>0</td>\n",
       "      <td>0</td>\n",
       "      <td>0</td>\n",
       "    </tr>\n",
       "    <tr>\n",
       "      <th>1</th>\n",
       "      <td>0</td>\n",
       "      <td>0</td>\n",
       "      <td>0</td>\n",
       "      <td>0</td>\n",
       "      <td>0</td>\n",
       "      <td>0</td>\n",
       "      <td>0</td>\n",
       "      <td>0</td>\n",
       "      <td>0</td>\n",
       "      <td>0</td>\n",
       "      <td>...</td>\n",
       "      <td>0</td>\n",
       "      <td>0</td>\n",
       "      <td>0</td>\n",
       "      <td>0</td>\n",
       "      <td>0</td>\n",
       "      <td>0</td>\n",
       "      <td>0</td>\n",
       "      <td>0</td>\n",
       "      <td>0</td>\n",
       "      <td>0</td>\n",
       "    </tr>\n",
       "    <tr>\n",
       "      <th>2</th>\n",
       "      <td>0</td>\n",
       "      <td>0</td>\n",
       "      <td>0</td>\n",
       "      <td>0</td>\n",
       "      <td>0</td>\n",
       "      <td>0</td>\n",
       "      <td>0</td>\n",
       "      <td>0</td>\n",
       "      <td>0</td>\n",
       "      <td>0</td>\n",
       "      <td>...</td>\n",
       "      <td>0</td>\n",
       "      <td>0</td>\n",
       "      <td>0</td>\n",
       "      <td>0</td>\n",
       "      <td>0</td>\n",
       "      <td>0</td>\n",
       "      <td>0</td>\n",
       "      <td>0</td>\n",
       "      <td>0</td>\n",
       "      <td>0</td>\n",
       "    </tr>\n",
       "    <tr>\n",
       "      <th>3</th>\n",
       "      <td>0</td>\n",
       "      <td>0</td>\n",
       "      <td>0</td>\n",
       "      <td>0</td>\n",
       "      <td>0</td>\n",
       "      <td>0</td>\n",
       "      <td>0</td>\n",
       "      <td>0</td>\n",
       "      <td>0</td>\n",
       "      <td>0</td>\n",
       "      <td>...</td>\n",
       "      <td>0</td>\n",
       "      <td>0</td>\n",
       "      <td>0</td>\n",
       "      <td>0</td>\n",
       "      <td>0</td>\n",
       "      <td>0</td>\n",
       "      <td>0</td>\n",
       "      <td>0</td>\n",
       "      <td>0</td>\n",
       "      <td>0</td>\n",
       "    </tr>\n",
       "    <tr>\n",
       "      <th>4</th>\n",
       "      <td>0</td>\n",
       "      <td>0</td>\n",
       "      <td>0</td>\n",
       "      <td>0</td>\n",
       "      <td>0</td>\n",
       "      <td>0</td>\n",
       "      <td>0</td>\n",
       "      <td>0</td>\n",
       "      <td>0</td>\n",
       "      <td>0</td>\n",
       "      <td>...</td>\n",
       "      <td>0</td>\n",
       "      <td>0</td>\n",
       "      <td>0</td>\n",
       "      <td>0</td>\n",
       "      <td>0</td>\n",
       "      <td>0</td>\n",
       "      <td>0</td>\n",
       "      <td>0</td>\n",
       "      <td>0</td>\n",
       "      <td>0</td>\n",
       "    </tr>\n",
       "    <tr>\n",
       "      <th>...</th>\n",
       "      <td>...</td>\n",
       "      <td>...</td>\n",
       "      <td>...</td>\n",
       "      <td>...</td>\n",
       "      <td>...</td>\n",
       "      <td>...</td>\n",
       "      <td>...</td>\n",
       "      <td>...</td>\n",
       "      <td>...</td>\n",
       "      <td>...</td>\n",
       "      <td>...</td>\n",
       "      <td>...</td>\n",
       "      <td>...</td>\n",
       "      <td>...</td>\n",
       "      <td>...</td>\n",
       "      <td>...</td>\n",
       "      <td>...</td>\n",
       "      <td>...</td>\n",
       "      <td>...</td>\n",
       "      <td>...</td>\n",
       "      <td>...</td>\n",
       "    </tr>\n",
       "    <tr>\n",
       "      <th>95</th>\n",
       "      <td>0</td>\n",
       "      <td>0</td>\n",
       "      <td>0</td>\n",
       "      <td>0</td>\n",
       "      <td>0</td>\n",
       "      <td>0</td>\n",
       "      <td>0</td>\n",
       "      <td>0</td>\n",
       "      <td>0</td>\n",
       "      <td>0</td>\n",
       "      <td>...</td>\n",
       "      <td>0</td>\n",
       "      <td>0</td>\n",
       "      <td>0</td>\n",
       "      <td>0</td>\n",
       "      <td>0</td>\n",
       "      <td>0</td>\n",
       "      <td>0</td>\n",
       "      <td>0</td>\n",
       "      <td>0</td>\n",
       "      <td>0</td>\n",
       "    </tr>\n",
       "    <tr>\n",
       "      <th>96</th>\n",
       "      <td>0</td>\n",
       "      <td>0</td>\n",
       "      <td>0</td>\n",
       "      <td>0</td>\n",
       "      <td>0</td>\n",
       "      <td>0</td>\n",
       "      <td>0</td>\n",
       "      <td>0</td>\n",
       "      <td>0</td>\n",
       "      <td>0</td>\n",
       "      <td>...</td>\n",
       "      <td>0</td>\n",
       "      <td>0</td>\n",
       "      <td>0</td>\n",
       "      <td>0</td>\n",
       "      <td>0</td>\n",
       "      <td>0</td>\n",
       "      <td>0</td>\n",
       "      <td>0</td>\n",
       "      <td>0</td>\n",
       "      <td>0</td>\n",
       "    </tr>\n",
       "    <tr>\n",
       "      <th>97</th>\n",
       "      <td>0</td>\n",
       "      <td>0</td>\n",
       "      <td>0</td>\n",
       "      <td>0</td>\n",
       "      <td>0</td>\n",
       "      <td>0</td>\n",
       "      <td>0</td>\n",
       "      <td>0</td>\n",
       "      <td>0</td>\n",
       "      <td>0</td>\n",
       "      <td>...</td>\n",
       "      <td>0</td>\n",
       "      <td>0</td>\n",
       "      <td>0</td>\n",
       "      <td>0</td>\n",
       "      <td>0</td>\n",
       "      <td>0</td>\n",
       "      <td>0</td>\n",
       "      <td>0</td>\n",
       "      <td>0</td>\n",
       "      <td>0</td>\n",
       "    </tr>\n",
       "    <tr>\n",
       "      <th>98</th>\n",
       "      <td>0</td>\n",
       "      <td>0</td>\n",
       "      <td>0</td>\n",
       "      <td>0</td>\n",
       "      <td>0</td>\n",
       "      <td>0</td>\n",
       "      <td>0</td>\n",
       "      <td>0</td>\n",
       "      <td>0</td>\n",
       "      <td>0</td>\n",
       "      <td>...</td>\n",
       "      <td>0</td>\n",
       "      <td>0</td>\n",
       "      <td>0</td>\n",
       "      <td>0</td>\n",
       "      <td>0</td>\n",
       "      <td>0</td>\n",
       "      <td>0</td>\n",
       "      <td>0</td>\n",
       "      <td>0</td>\n",
       "      <td>0</td>\n",
       "    </tr>\n",
       "    <tr>\n",
       "      <th>99</th>\n",
       "      <td>0</td>\n",
       "      <td>0</td>\n",
       "      <td>0</td>\n",
       "      <td>0</td>\n",
       "      <td>0</td>\n",
       "      <td>0</td>\n",
       "      <td>0</td>\n",
       "      <td>0</td>\n",
       "      <td>0</td>\n",
       "      <td>0</td>\n",
       "      <td>...</td>\n",
       "      <td>0</td>\n",
       "      <td>0</td>\n",
       "      <td>0</td>\n",
       "      <td>0</td>\n",
       "      <td>0</td>\n",
       "      <td>0</td>\n",
       "      <td>0</td>\n",
       "      <td>0</td>\n",
       "      <td>0</td>\n",
       "      <td>0</td>\n",
       "    </tr>\n",
       "  </tbody>\n",
       "</table>\n",
       "<p>100 rows × 22500 columns</p>\n",
       "</div>"
      ],
      "text/plain": [
       "    aaa  aaron  aaron tveit  ab  abandon  abandoned  abbas  abbey  abbott  \\\n",
       "0     0      0            0   0        0          0      0      0       0   \n",
       "1     0      0            0   0        0          0      0      0       0   \n",
       "2     0      0            0   0        0          0      0      0       0   \n",
       "3     0      0            0   0        0          0      0      0       0   \n",
       "4     0      0            0   0        0          0      0      0       0   \n",
       "..  ...    ...          ...  ..      ...        ...    ...    ...     ...   \n",
       "95    0      0            0   0        0          0      0      0       0   \n",
       "96    0      0            0   0        0          0      0      0       0   \n",
       "97    0      0            0   0        0          0      0      0       0   \n",
       "98    0      0            0   0        0          0      0      0       0   \n",
       "99    0      0            0   0        0          0      0      0       0   \n",
       "\n",
       "    abby  ...  zombie apocalypse  zone  zoo  zoolander  zotob  zotob worm  \\\n",
       "0      0  ...                  0     0    0          0      0           0   \n",
       "1      0  ...                  0     0    0          0      0           0   \n",
       "2      0  ...                  0     0    0          0      0           0   \n",
       "3      0  ...                  0     0    0          0      0           0   \n",
       "4      0  ...                  0     0    0          0      0           0   \n",
       "..   ...  ...                ...   ...  ...        ...    ...         ...   \n",
       "95     0  ...                  0     0    0          0      0           0   \n",
       "96     0  ...                  0     0    0          0      0           0   \n",
       "97     0  ...                  0     0    0          0      0           0   \n",
       "98     0  ...                  0     0    0          0      0           0   \n",
       "99     0  ...                  0     0    0          0      0           0   \n",
       "\n",
       "    zuma  zurich  íngrid  íngrid betancourt  \n",
       "0      0       0       0                  0  \n",
       "1      0       0       0                  0  \n",
       "2      0       0       0                  0  \n",
       "3      0       0       0                  0  \n",
       "4      0       0       0                  0  \n",
       "..   ...     ...     ...                ...  \n",
       "95     0       0       0                  0  \n",
       "96     0       0       0                  0  \n",
       "97     0       0       0                  0  \n",
       "98     0       0       0                  0  \n",
       "99     0       0       0                  0  \n",
       "\n",
       "[100 rows x 22500 columns]"
      ]
     },
     "execution_count": 23,
     "metadata": {},
     "output_type": "execute_result"
    }
   ],
   "source": [
    "pd.DataFrame(test_arr[:100], columns=cov.get_feature_names())"
   ]
  },
  {
   "cell_type": "markdown",
   "id": "94fe7c6e",
   "metadata": {},
   "source": [
    "# Define Naive Bayes Classifier and training"
   ]
  },
  {
   "cell_type": "code",
   "execution_count": 24,
   "id": "4863e20d",
   "metadata": {
    "ExecuteTime": {
     "end_time": "2021-04-04T15:57:05.154348Z",
     "start_time": "2021-04-04T15:56:28.486857Z"
    }
   },
   "outputs": [],
   "source": [
    "NB_MN=MultinomialNB()\n",
    "NB_MN.fit(train_arr,train_y)\n",
    "pred=NB_MN.predict(test_arr)"
   ]
  },
  {
   "cell_type": "markdown",
   "id": "cf2385e4",
   "metadata": {},
   "source": [
    "# Evaluation of Result"
   ]
  },
  {
   "cell_type": "code",
   "execution_count": 25,
   "id": "06065c51",
   "metadata": {
    "ExecuteTime": {
     "end_time": "2021-04-04T15:57:24.561183Z",
     "start_time": "2021-04-04T15:57:24.448083Z"
    }
   },
   "outputs": [
    {
     "name": "stdout",
     "output_type": "stream",
     "text": [
      "F1 score of the model\n",
      "0.9593110334498253\n",
      "Accuracy of the model\n",
      "0.95925\n",
      "Accuracy of the model in percentage\n",
      "95.92500000000001 %\n"
     ]
    }
   ],
   "source": [
    "from sklearn.metrics import f1_score,accuracy_score\n",
    "print(\"F1 score of the model\")\n",
    "print(f1_score(test_y,pred))\n",
    "print(\"Accuracy of the model\")\n",
    "print(accuracy_score(test_y,pred))\n",
    "print(\"Accuracy of the model in percentage\")\n",
    "print(accuracy_score(test_y,pred)*100,\"%\")"
   ]
  },
  {
   "cell_type": "code",
   "execution_count": 26,
   "id": "0271b151",
   "metadata": {
    "ExecuteTime": {
     "end_time": "2021-04-04T15:57:39.875139Z",
     "start_time": "2021-04-04T15:57:39.833190Z"
    }
   },
   "outputs": [
    {
     "name": "stdout",
     "output_type": "stream",
     "text": [
      "Confusion Matrix\n",
      "[[3831  169]\n",
      " [ 157 3843]]\n",
      "Classification Report\n",
      "              precision    recall  f1-score   support\n",
      "\n",
      "           0       0.96      0.96      0.96      4000\n",
      "           1       0.96      0.96      0.96      4000\n",
      "\n",
      "    accuracy                           0.96      8000\n",
      "   macro avg       0.96      0.96      0.96      8000\n",
      "weighted avg       0.96      0.96      0.96      8000\n",
      "\n"
     ]
    }
   ],
   "source": [
    "from sklearn.metrics import confusion_matrix\n",
    "print(\"Confusion Matrix\")\n",
    "print(confusion_matrix(test_y,pred))\n",
    "\n",
    "from sklearn.metrics import classification_report\n",
    "print(\"Classification Report\")\n",
    "print(classification_report(test_y,pred))"
   ]
  },
  {
   "cell_type": "code",
   "execution_count": 27,
   "id": "dfd66069",
   "metadata": {
    "ExecuteTime": {
     "end_time": "2021-04-04T15:57:53.337467Z",
     "start_time": "2021-04-04T15:57:53.107888Z"
    }
   },
   "outputs": [
    {
     "data": {
      "text/plain": [
       "Text(0.5, 1.0, 'Confusion Matrix for Clickbait Classification')"
      ]
     },
     "execution_count": 27,
     "metadata": {},
     "output_type": "execute_result"
    },
    {
     "data": {
      "image/png": "[encoded data removed]",
      "text/plain": [
       "<Figure size 576x576 with 1 Axes>"
      ]
     },
     "metadata": {},
     "output_type": "display_data"
    }
   ],
   "source": [
    "sns.set(font_scale=1.5)\n",
    "cof=confusion_matrix(test_y, pred)\n",
    "cof=pd.DataFrame(cof, index=[i for i in range(2)], columns=[i for i in range(2)])\n",
    "plt.figure(figsize=(8,8))\n",
    "\n",
    "sns.heatmap(cof, cmap=\"PuRd\",linewidths=1, annot=True,square=True,cbar=False,fmt='d',xticklabels=['Non-clickbait','Clickbait'],yticklabels=['Non-clickbait','Clickbait'])\n",
    "plt.xlabel(\"Predicted Class\")\n",
    "plt.ylabel(\"Actual Class\")\n",
    "\n",
    "plt.title(\"Confusion Matrix for Clickbait Classification\")"
   ]
  },
  {
   "cell_type": "markdown",
   "id": "1b22104c",
   "metadata": {},
   "source": [
    "# SAVING THE MODEL AND SCALER OBJECT FOR USE IN DEPLOYMENT"
   ]
  },
  {
   "cell_type": "code",
   "execution_count": 90,
   "id": "69455bb8",
   "metadata": {
    "ExecuteTime": {
     "end_time": "2021-04-04T18:14:15.715384Z",
     "start_time": "2021-04-04T18:14:14.668932Z"
    }
   },
   "outputs": [
    {
     "data": {
      "text/plain": [
       "['scaler.pkl']"
      ]
     },
     "execution_count": 90,
     "metadata": {},
     "output_type": "execute_result"
    }
   ],
   "source": [
    "joblib.dump(cov,\"scaler.pkl\")"
   ]
  },
  {
   "cell_type": "code",
   "execution_count": 91,
   "id": "8dbbd336",
   "metadata": {
    "ExecuteTime": {
     "end_time": "2021-04-04T18:14:22.546810Z",
     "start_time": "2021-04-04T18:14:22.533935Z"
    }
   },
   "outputs": [
    {
     "data": {
      "text/plain": [
       "['model.pkl']"
      ]
     },
     "execution_count": 91,
     "metadata": {},
     "output_type": "execute_result"
    }
   ],
   "source": [
    "joblib.dump(NB_MN,\"model.pkl\")"
   ]
  },
  {
   "cell_type": "markdown",
   "id": "81d3dadd",
   "metadata": {},
   "source": [
    "# RE-USABLE PREDICTION CLASS FOR DEPLOYMENT"
   ]
  },
  {
   "cell_type": "code",
   "execution_count": 134,
   "id": "b6264aea",
   "metadata": {
    "ExecuteTime": {
     "end_time": "2021-04-04T19:23:25.903790Z",
     "start_time": "2021-04-04T19:23:25.891909Z"
    }
   },
   "outputs": [],
   "source": [
    "class ClickBaitModel:\n",
    "    def __init__(self, text):\n",
    "        \n",
    "        '''\n",
    "        Argument required is a JSON object as retrieved from the POST request\n",
    "        JSON object = {\"title\":\"string\"}\n",
    "        '''\n",
    "        \n",
    "        self.text = text[\"title\"]\n",
    "        \n",
    "        \n",
    "    def tokenization(self):\n",
    "        lst=self.text.split()\n",
    "        return lst\n",
    "    \n",
    "    \n",
    "    def lowercasing(self,arg):\n",
    "        new_lst=[]\n",
    "        for i in arg:\n",
    "            i=i.lower()\n",
    "            new_lst.append(i)\n",
    "        return new_lst\n",
    "\n",
    "    \n",
    "    def remove_stopwords(self, arg):\n",
    "        stop=stopwords.words('english')\n",
    "        new_lst=[]\n",
    "        for i in arg:\n",
    "            if i not in stop:\n",
    "                new_lst.append(i)\n",
    "        return new_lst\n",
    "\n",
    "    \n",
    "    def remove_punctuations(self, arg):\n",
    "        new_lst=[]\n",
    "        for i in arg:\n",
    "            for j in s.punctuation:\n",
    "                i=i.replace(j,'')\n",
    "            new_lst.append(i)\n",
    "        return new_lst\n",
    "\n",
    "    \n",
    "    def remove_numbers(self, arg):\n",
    "        nodig_lst=[]\n",
    "        new_lst=[]\n",
    "        for i in arg:\n",
    "            for j in s.digits:    \n",
    "                i=i.replace(j,'')\n",
    "            nodig_lst.append(i)\n",
    "        for i in nodig_lst:\n",
    "            if i!='':\n",
    "                new_lst.append(i)\n",
    "        return new_lst\n",
    "    \n",
    "    \n",
    "    def remove_spaces(self, arg):\n",
    "        new_lst=[]\n",
    "        for i in arg:\n",
    "            i=i.strip()\n",
    "            new_lst.append(i)\n",
    "        return new_lst\n",
    "\n",
    "\n",
    "    \n",
    "    def lemmatzation(self, arg):\n",
    "        lemmatizer=nltk.stem.WordNetLemmatizer()\n",
    "        new_lst=[]\n",
    "        for i in arg:\n",
    "            i=lemmatizer.lemmatize(i)\n",
    "            new_lst.append(i)\n",
    "        return new_lst\n",
    "    \n",
    "    \n",
    "    def preprocess(self):\n",
    "        temp = self.tokenization()\n",
    "        temp = self.lowercasing(temp)\n",
    "        temp = self.remove_stopwords(temp)\n",
    "        temp = self.remove_punctuations(temp)\n",
    "        temp = self.remove_numbers(temp)\n",
    "        temp = self.remove_spaces(temp) \n",
    "        lemmatizer=WordNetLemmatizer()\n",
    "        temp = self.lemmatzation(temp)\n",
    "        temp = ''.join(i+' ' for i in temp)\n",
    "        return temp  \n",
    "    \n",
    "    \n",
    "    def predict(self,scaler,model):\n",
    "        '''\n",
    "        Arguments required are the scaler and model objects.\n",
    "        This function will preprocess the JSON object, and return a prediction as a string.\n",
    "        '''\n",
    "        temp = self.preprocess()\n",
    "        temp = scaler.transform([temp])\n",
    "        temp_arr=temp.toarray()\n",
    "        pred=model.predict(temp_arr)[0]\n",
    "        return \"Clickbait!\" if pred == 1 else \"Not Clickbait!\"\n",
    "    \n",
    "    \n"
   ]
  },
  {
   "cell_type": "markdown",
   "id": "47a59c45",
   "metadata": {},
   "source": [
    "# CODE FOR DEPLOYMENT"
   ]
  },
  {
   "cell_type": "code",
   "execution_count": null,
   "id": "f6335699",
   "metadata": {},
   "outputs": [],
   "source": [
    "import numpy as np \n",
    "import nltk\n",
    "from nltk.corpus import stopwords\n",
    "from nltk.probability import FreqDist\n",
    "from nltk.stem import WordNetLemmatizer\n",
    "import string as s\n",
    "import re\n",
    "import os\n",
    "import joblib\n",
    "\n",
    "\n",
    "loaded_model = joblib.load(\"###PATH###/model.pkl\")\n",
    "loaded_scaler = joblib.load(\"###PATH###/scaler.pkl\")\n",
    "\n",
    "\n",
    "title_data = ClickBaitModel(###ENTERPOSTREQUEST.BODY)\n",
    "title_data.predict(loaded_scaler, loaded_model)"
   ]
  },
  {
   "cell_type": "markdown",
   "id": "51885560",
   "metadata": {},
   "source": [
    "# SINGLE PREDICTION TEST BEFORE MOVING CODE TO DEPLOYMENT"
   ]
  },
  {
   "cell_type": "code",
   "execution_count": 139,
   "id": "d085f2e9",
   "metadata": {
    "ExecuteTime": {
     "end_time": "2021-04-04T19:28:08.680621Z",
     "start_time": "2021-04-04T19:28:08.672627Z"
    }
   },
   "outputs": [
    {
     "data": {
      "text/html": [
       "<div>\n",
       "<style scoped>\n",
       "    .dataframe tbody tr th:only-of-type {\n",
       "        vertical-align: middle;\n",
       "    }\n",
       "\n",
       "    .dataframe tbody tr th {\n",
       "        vertical-align: top;\n",
       "    }\n",
       "\n",
       "    .dataframe thead th {\n",
       "        text-align: right;\n",
       "    }\n",
       "</style>\n",
       "<table border=\"1\" class=\"dataframe\">\n",
       "  <thead>\n",
       "    <tr style=\"text-align: right;\">\n",
       "      <th></th>\n",
       "      <th>headline</th>\n",
       "      <th>clickbait</th>\n",
       "    </tr>\n",
       "  </thead>\n",
       "  <tbody>\n",
       "    <tr>\n",
       "      <th>0</th>\n",
       "      <td>Should I Get Bings</td>\n",
       "      <td>1</td>\n",
       "    </tr>\n",
       "    <tr>\n",
       "      <th>1</th>\n",
       "      <td>Which TV Female Friend Group Do You Belong In</td>\n",
       "      <td>1</td>\n",
       "    </tr>\n",
       "    <tr>\n",
       "      <th>2</th>\n",
       "      <td>The New \"Star Wars: The Force Awakens\" Trailer...</td>\n",
       "      <td>1</td>\n",
       "    </tr>\n",
       "    <tr>\n",
       "      <th>3</th>\n",
       "      <td>This Vine Of New York On \"Celebrity Big Brothe...</td>\n",
       "      <td>1</td>\n",
       "    </tr>\n",
       "    <tr>\n",
       "      <th>4</th>\n",
       "      <td>A Couple Did A Stunning Photo Shoot With Their...</td>\n",
       "      <td>1</td>\n",
       "    </tr>\n",
       "  </tbody>\n",
       "</table>\n",
       "</div>"
      ],
      "text/plain": [
       "                                            headline  clickbait\n",
       "0                                 Should I Get Bings          1\n",
       "1      Which TV Female Friend Group Do You Belong In          1\n",
       "2  The New \"Star Wars: The Force Awakens\" Trailer...          1\n",
       "3  This Vine Of New York On \"Celebrity Big Brothe...          1\n",
       "4  A Couple Did A Stunning Photo Shoot With Their...          1"
      ]
     },
     "execution_count": 139,
     "metadata": {},
     "output_type": "execute_result"
    }
   ],
   "source": [
    "cb_data.head()"
   ]
  },
  {
   "cell_type": "code",
   "execution_count": 137,
   "id": "7fe3db1e",
   "metadata": {
    "ExecuteTime": {
     "end_time": "2021-04-04T19:25:01.914729Z",
     "start_time": "2021-04-04T19:25:01.910691Z"
    }
   },
   "outputs": [],
   "source": [
    "dummy = ClickBaitModel({\"title\": \"Which TV Female Friend Group Do You Belong In\"})"
   ]
  },
  {
   "cell_type": "code",
   "execution_count": 138,
   "id": "4796f209",
   "metadata": {
    "ExecuteTime": {
     "end_time": "2021-04-04T19:25:04.272374Z",
     "start_time": "2021-04-04T19:25:04.261807Z"
    }
   },
   "outputs": [
    {
     "data": {
      "text/plain": [
       "'Clickbait!'"
      ]
     },
     "execution_count": 138,
     "metadata": {},
     "output_type": "execute_result"
    }
   ],
   "source": [
    "dummy.predict(loaded_scaler,loaded_model)"
   ]
  }
 ],
 "metadata": {
  "kernelspec": {
   "display_name": "Python 3",
   "language": "python",
   "name": "python3"
  },
  "language_info": {
   "codemirror_mode": {
    "name": "ipython",
    "version": 3
   },
   "file_extension": ".py",
   "mimetype": "text/x-python",
   "name": "python",
   "nbconvert_exporter": "python",
   "pygments_lexer": "ipython3",
   "version": "3.7.2"
  },
  "varInspector": {
   "cols": {
    "lenName": 16,
    "lenType": 16,
    "lenVar": 40
   },
   "kernels_config": {
    "python": {
     "delete_cmd_postfix": "",
     "delete_cmd_prefix": "del ",
     "library": "var_list.py",
     "varRefreshCmd": "print(var_dic_list())"
    },
    "r": {
     "delete_cmd_postfix": ") ",
     "delete_cmd_prefix": "rm(",
     "library": "var_list.r",
     "varRefreshCmd": "cat(var_dic_list()) "
    }
   },
   "types_to_exclude": [
    "module",
    "function",
    "builtin_function_or_method",
    "instance",
    "_Feature"
   ],
   "window_display": false
  }
 },
 "nbformat": 4,
 "nbformat_minor": 5
}